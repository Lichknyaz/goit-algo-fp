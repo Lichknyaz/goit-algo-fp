{
 "cells": [
  {
   "metadata": {},
   "cell_type": "markdown",
   "source": [
    "# Завдання 6. Жадібні алгоритми та динамічне програмування\n",
    "\n",
    "\n",
    "\n",
    "Необхідно написати програму на Python, яка використовує два підходи — жадібний алгоритм та алгоритм динамічного програмування для розв’язання задачі вибору їжі з найбільшою сумарною калорійністю в межах обмеженого бюджету.\n",
    "\n",
    "Кожен вид їжі має вказану вартість і калорійність. Дані про їжу представлені у вигляді словника, де ключ — назва страви, а значення — це словник з вартістю та калорійністю."
   ],
   "id": "140ddfcadcffe3a8"
  },
  {
   "cell_type": "code",
   "id": "initial_id",
   "metadata": {
    "collapsed": true,
    "ExecuteTime": {
     "end_time": "2024-08-01T08:40:40.395216Z",
     "start_time": "2024-08-01T08:40:40.385986Z"
    }
   },
   "source": [
    "items = {\n",
    "    \"pizza\": {\"cost\": 50, \"calories\": 300},\n",
    "    \"hamburger\": {\"cost\": 40, \"calories\": 250},\n",
    "    \"hot-dog\": {\"cost\": 30, \"calories\": 200},\n",
    "    \"pepsi\": {\"cost\": 10, \"calories\": 100},\n",
    "    \"cola\": {\"cost\": 15, \"calories\": 220},\n",
    "    \"potato\": {\"cost\": 25, \"calories\": 350}\n",
    "}"
   ],
   "outputs": [],
   "execution_count": 40
  },
  {
   "metadata": {
    "ExecuteTime": {
     "end_time": "2024-08-01T08:20:34.838157Z",
     "start_time": "2024-08-01T08:20:34.832636Z"
    }
   },
   "cell_type": "code",
   "source": [
    "def greedy_food (food: dict, budget = 100):\n",
    "    sorted_items = sorted(food.items(), key = lambda item: item[1][\"calories\"]/item[1][\"cost\"], reverse = True)\n",
    "    chosen_items = []\n",
    "    total_calories = 0\n",
    "    for item in sorted_items:\n",
    "        if budget >= item[1][\"cost\"]:\n",
    "            budget -= item[1][\"cost\"]\n",
    "            total_calories += item[1][\"calories\"]\n",
    "            chosen_items.append(item)\n",
    "    print(f\"Chosen items:\")\n",
    "    for item in chosen_items:\n",
    "        print(f\"{item[0]}: for {item[1]['cost']} cost and with {item[1]['calories']} calories\")\n",
    "    print(f\"Total calories: {total_calories}\")\n"
   ],
   "id": "9f019106c0df8633",
   "outputs": [],
   "execution_count": 36
  },
  {
   "metadata": {
    "ExecuteTime": {
     "end_time": "2024-08-01T08:58:06.328734Z",
     "start_time": "2024-08-01T08:58:06.324769Z"
    }
   },
   "cell_type": "code",
   "source": "greedy_food(items, 100)",
   "id": "2e853b0022b563df",
   "outputs": [
    {
     "name": "stdout",
     "output_type": "stream",
     "text": [
      "Chosen items:\n",
      "cola: for 15 cost and with 220 calories\n",
      "potato: for 25 cost and with 350 calories\n",
      "pepsi: for 10 cost and with 100 calories\n",
      "hot-dog: for 30 cost and with 200 calories\n",
      "Total calories: 870\n"
     ]
    }
   ],
   "execution_count": 61
  },
  {
   "metadata": {
    "ExecuteTime": {
     "end_time": "2024-08-01T09:08:26.038025Z",
     "start_time": "2024-08-01T09:08:26.028632Z"
    }
   },
   "cell_type": "code",
   "source": [
    "def dp_food(food: dict, budget = 100):\n",
    "    n = len(food)\n",
    "    cost = [food[i][\"cost\"] for i in food]\n",
    "    calories = [food[i][\"calories\"] for i in food]\n",
    "    items = list(food.items())\n",
    "    \n",
    "    K = [[0 for _ in range(budget + 1)] for _ in range(n + 1)]\n",
    "    \n",
    "    for i in range(n + 1):\n",
    "        for b in range(budget + 1):\n",
    "            if i == 0 or b == 0:\n",
    "                K[i][b] = 0\n",
    "            elif cost[i-1] <= b:\n",
    "                K[i][b] = max(calories[i - 1] + K[i - 1][b - cost[i - 1]], K[i - 1][b])\n",
    "            else:\n",
    "                K[i][b] = K[i - 1][b]\n",
    "                \n",
    "    chosen_items = []\n",
    "    b = budget\n",
    "    \n",
    "    for i in range(n, 0, -1):\n",
    "        if K[i][b] != K[i-1][b]: \n",
    "            chosen_items.append(items[i-1])\n",
    "            b -= cost[i-1]\n",
    "    \n",
    "    chosen_items.reverse()\n",
    "    \n",
    "    print(f\"Chosen items:\")\n",
    "    for item in chosen_items:\n",
    "        print(f\"{item[0]}: for {item[1]['cost']} cost and with {item[1]['calories']} calories\")\n",
    "    print(f\"Total calories: {K[n][budget]}\")\n"
   ],
   "id": "83fbe5bdbbf61400",
   "outputs": [],
   "execution_count": 64
  },
  {
   "metadata": {
    "ExecuteTime": {
     "end_time": "2024-08-01T09:09:09.375412Z",
     "start_time": "2024-08-01T09:09:09.371477Z"
    }
   },
   "cell_type": "code",
   "source": "dp_food(items, 20)",
   "id": "817cf687c3f1b9ec",
   "outputs": [
    {
     "name": "stdout",
     "output_type": "stream",
     "text": [
      "Chosen items:\n",
      "cola: for 15 cost and with 220 calories\n",
      "Total calories: 220\n"
     ]
    }
   ],
   "execution_count": 68
  }
 ],
 "metadata": {
  "kernelspec": {
   "display_name": "Python 3",
   "language": "python",
   "name": "python3"
  },
  "language_info": {
   "codemirror_mode": {
    "name": "ipython",
    "version": 2
   },
   "file_extension": ".py",
   "mimetype": "text/x-python",
   "name": "python",
   "nbconvert_exporter": "python",
   "pygments_lexer": "ipython2",
   "version": "2.7.6"
  }
 },
 "nbformat": 4,
 "nbformat_minor": 5
}
