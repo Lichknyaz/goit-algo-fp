{
 "cells": [
  {
   "metadata": {},
   "cell_type": "markdown",
   "source": [
    "# Завдання 2. Рекурсія. Створення фрактала “дерево Піфагора” за допомогою рекурсії\n",
    "\n",
    "Необхідно написати програму на Python, яка використовує рекурсію для створення фрактала “дерево Піфагора”. \n",
    "\n",
    "Програма має візуалізувати фрактал “дерево Піфагора”, і користувач повинен мати можливість вказати рівень рекурсії."
   ],
   "id": "30b5811ce1de1b6c"
  },
  {
   "cell_type": "code",
   "id": "initial_id",
   "metadata": {
    "collapsed": true,
    "ExecuteTime": {
     "end_time": "2024-07-31T05:35:39.552570Z",
     "start_time": "2024-07-31T05:35:39.506242Z"
    }
   },
   "source": [
    "import turtle\n",
    "\n",
    "def pythagorean_tree(t, order, branch_size = 50, branch_reduction = 5, angle = 45):\n",
    "    if order == 0:\n",
    "        t.fd(0)\n",
    "    else:\n",
    "        branch_size = branch_size - branch_reduction\n",
    "        t.forward(branch_size)\n",
    "        t.left(angle)\n",
    "        pythagorean_tree(t, order-1, branch_size, branch_reduction, angle)\n",
    "        t.right(angle * 2)\n",
    "        pythagorean_tree(t, order-1, branch_size, branch_reduction, angle)\n",
    "        t.left(angle)\n",
    "        t.backward(branch_size)\n",
    "\n",
    "def draw_pythagorean_tree(order):\n",
    "    window = turtle.Screen()\n",
    "    window.bgcolor(\"white\")\n",
    "    window.title(\"Pythagorean Tree\")\n",
    "    window.setup(500,500)\n",
    "\n",
    "\n",
    "    t = turtle.Turtle()\n",
    "    t.speed(0)\n",
    "    t.color(\"red\")\n",
    "    t.pensize(2)\n",
    "    t.penup()\n",
    "    t.goto(0, -100)\n",
    "    t.pendown()\n",
    "    t.setheading(90)\n",
    "    \n",
    "    pythagorean_tree(t, order)\n",
    "    \n",
    "    window.exitonclick()"
   ],
   "outputs": [],
   "execution_count": 2
  },
  {
   "metadata": {
    "ExecuteTime": {
     "end_time": "2024-07-31T05:35:58.154060Z",
     "start_time": "2024-07-31T05:35:41.139389Z"
    }
   },
   "cell_type": "code",
   "source": [
    "level_of_recursion = int(input (\"Input level of recursion: \"))\n",
    "draw_pythagorean_tree(level_of_recursion)"
   ],
   "id": "c37b6f59f34813c7",
   "outputs": [],
   "execution_count": 3
  }
 ],
 "metadata": {
  "kernelspec": {
   "display_name": "Python 3",
   "language": "python",
   "name": "python3"
  },
  "language_info": {
   "codemirror_mode": {
    "name": "ipython",
    "version": 2
   },
   "file_extension": ".py",
   "mimetype": "text/x-python",
   "name": "python",
   "nbconvert_exporter": "python",
   "pygments_lexer": "ipython2",
   "version": "2.7.6"
  }
 },
 "nbformat": 4,
 "nbformat_minor": 5
}
