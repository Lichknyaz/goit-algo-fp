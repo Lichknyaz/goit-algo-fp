{
 "cells": [
  {
   "metadata": {},
   "cell_type": "markdown",
   "source": [
    "# Завдання 7. Використання методу Монте-Карло\n",
    "\n",
    "Необхідно написати програму на Python, яка імітує велику кількість кидків кубиків, обчислює суми чисел, які випадають на кубиках, і визначає ймовірність кожної можливої суми.\n",
    "\n",
    "\n",
    "\n",
    "Створіть симуляцію, де два кубики кидаються велику кількість разів. \n",
    "\n",
    "Для кожного кидка визначте суму чисел, які випали на обох кубиках. \n",
    "\n",
    "Підрахуйте, скільки разів кожна можлива сума (від 2 до 12) з’являється у процесі симуляції. \n",
    "\n",
    "Використовуючи ці дані, обчисліть імовірність кожної суми.\n",
    "\n",
    "\n",
    "\n",
    "На основі проведених імітацій створіть таблицю або графік, який відображає ймовірності кожної суми, виявлені за допомогою методу Монте-Карло."
   ],
   "id": "2017b838187779c3"
  },
  {
   "cell_type": "code",
   "id": "initial_id",
   "metadata": {
    "collapsed": true,
    "ExecuteTime": {
     "end_time": "2024-08-01T09:55:09.306375Z",
     "start_time": "2024-08-01T09:55:09.158272Z"
    }
   },
   "source": [
    "import random\n",
    "from collections import Counter\n",
    "import pandas as pd\n",
    "\n",
    "number_of_rolls = 100000\n",
    "\n",
    "list_of_rolls = [(random.randint(1,6), random.randint(1,6)) for _ in range(number_of_rolls)]\n",
    "\n",
    "result = list(sum(roll) for roll in list_of_rolls)\n",
    "counter = sorted(dict(Counter(result)).items())\n",
    "sorted_counter = {}\n",
    "for key, value in counter:\n",
    "    percentage = value / number_of_rolls * 100\n",
    "    sorted_counter[key] = f\"{percentage:.2f}%\"\n",
    "\n",
    "df = pd.DataFrame(sorted_counter.items(), columns=['Summ', 'Percentage'])\n"
   ],
   "outputs": [],
   "execution_count": 89
  },
  {
   "metadata": {},
   "cell_type": "markdown",
   "source": "### Теоретична вирогідність випадіння",
   "id": "7ce0059fd05bd953"
  },
  {
   "metadata": {
    "ExecuteTime": {
     "end_time": "2024-08-01T09:50:12.097622Z",
     "start_time": "2024-08-01T09:50:12.090419Z"
    }
   },
   "cell_type": "code",
   "source": [
    "sums = list(range(2, 13))\n",
    "ways = [1, 2, 3, 4, 5, 6, 5, 4, 3, 2, 1]\n",
    "\n",
    "probabilities = {sums[i]: (ways[i] / 36) * 100 for i in range(len(sums))}\n",
    "\n",
    "for key, value in probabilities.items():\n",
    "    probabilities[key] = f\"{value:.2f}%\"\n",
    "    \n",
    "\n",
    "df2 = pd.DataFrame(probabilities.items(), columns=['Summ', 'Percentage'])"
   ],
   "id": "4e261cae3760954a",
   "outputs": [],
   "execution_count": 80
  },
  {
   "metadata": {
    "ExecuteTime": {
     "end_time": "2024-08-01T09:55:11.715132Z",
     "start_time": "2024-08-01T09:55:11.710363Z"
    }
   },
   "cell_type": "code",
   "source": "print(f\"Monte-Carlo with {number_of_rolls} rolls: \\n\", df.to_string(index=False))",
   "id": "d03d06a0fc7942b1",
   "outputs": [
    {
     "name": "stdout",
     "output_type": "stream",
     "text": [
      "Monte-Carlo with 100000 rolls: \n",
      "  Summ Percentage\n",
      "    2      2.73%\n",
      "    3      5.51%\n",
      "    4      8.40%\n",
      "    5     11.01%\n",
      "    6     13.96%\n",
      "    7     16.76%\n",
      "    8     13.96%\n",
      "    9     11.14%\n",
      "   10      8.20%\n",
      "   11      5.62%\n",
      "   12      2.72%\n"
     ]
    }
   ],
   "execution_count": 90
  },
  {
   "metadata": {
    "ExecuteTime": {
     "end_time": "2024-08-01T09:53:20.831951Z",
     "start_time": "2024-08-01T09:53:20.824448Z"
    }
   },
   "cell_type": "code",
   "source": "print(\"Theoretical: \\n\", df2.to_string(index=False))",
   "id": "44d4ad41f058951e",
   "outputs": [
    {
     "name": "stdout",
     "output_type": "stream",
     "text": [
      "Theoretical: \n",
      "  Summ Percentage\n",
      "    2      2.78%\n",
      "    3      5.56%\n",
      "    4      8.33%\n",
      "    5     11.11%\n",
      "    6     13.89%\n",
      "    7     16.67%\n",
      "    8     13.89%\n",
      "    9     11.11%\n",
      "   10      8.33%\n",
      "   11      5.56%\n",
      "   12      2.78%\n"
     ]
    }
   ],
   "execution_count": 83
  },
  {
   "metadata": {},
   "cell_type": "markdown",
   "source": [
    "# Висновки\n",
    "\n",
    "Зі збільшенням кількості кидків кубиків у методі Монте-Карло показники наближуються до теоретичних вирогідностей\n"
   ],
   "id": "e3a61bb179582a44"
  }
 ],
 "metadata": {
  "kernelspec": {
   "display_name": "Python 3",
   "language": "python",
   "name": "python3"
  },
  "language_info": {
   "codemirror_mode": {
    "name": "ipython",
    "version": 2
   },
   "file_extension": ".py",
   "mimetype": "text/x-python",
   "name": "python",
   "nbconvert_exporter": "python",
   "pygments_lexer": "ipython2",
   "version": "2.7.6"
  }
 },
 "nbformat": 4,
 "nbformat_minor": 5
}
