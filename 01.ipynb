{
 "cells": [
  {
   "metadata": {},
   "cell_type": "markdown",
   "source": [
    "# Завдання 1. Структури даних. Сортування. Робота з однозв'язним списком\n",
    "\n",
    "Для реалізації однозв'язного списку (приклад реалізації можна взяти з конспекту) необхідно:\n",
    "\n",
    "- написати функцію, яка реалізує реверсування однозв'язного списку, змінюючи посилання між вузлами;\n",
    "- розробити алгоритм сортування для однозв'язного списку, наприклад, сортування вставками або злиттям;\n",
    "- написати функцію, що об'єднує два відсортовані однозв'язні списки в один відсортований список."
   ],
   "id": "d054520e091336fe"
  },
  {
   "metadata": {
    "ExecuteTime": {
     "end_time": "2024-07-31T04:59:44.267537Z",
     "start_time": "2024-07-31T04:59:44.253709Z"
    }
   },
   "cell_type": "code",
   "source": [
    "class Node:\n",
    "  def __init__(self, data=None):\n",
    "    self.data = data\n",
    "    self.next = None\n",
    "      \n",
    "\n",
    "\n",
    "class LinkedList:\n",
    "  def __init__(self):\n",
    "    self.head = None\n",
    "\n",
    "  def insert_at_beginning(self, data):\n",
    "    new_node = Node(data)\n",
    "    new_node.next = self.head\n",
    "    self.head = new_node\n",
    "\n",
    "  def insert_at_end(self, data):\n",
    "    new_node = Node(data)\n",
    "    if self.head is None:\n",
    "      self.head = new_node\n",
    "    else:\n",
    "      cur = self.head\n",
    "      while cur.next:\n",
    "        cur = cur.next\n",
    "      cur.next = new_node\n",
    "\n",
    "  def insert_after(self, prev_node: Node, data):\n",
    "    if prev_node is None:\n",
    "      print(\"Попереднього вузла не існує.\")\n",
    "      return\n",
    "    new_node = Node(data)\n",
    "    new_node.next = prev_node.next\n",
    "    prev_node.next = new_node\n",
    "\n",
    "  def delete_node(self, key: int):\n",
    "    cur = self.head\n",
    "    if cur and cur.data == key:\n",
    "      self.head = cur.next\n",
    "      cur = None\n",
    "      return\n",
    "    prev = None\n",
    "    while cur and cur.data != key:\n",
    "      prev = cur\n",
    "      cur = cur.next\n",
    "    if cur is None:\n",
    "      return\n",
    "    prev.next = cur.next\n",
    "    cur = None\n",
    "\n",
    "  def search_element(self, data: int) -> Node | None:\n",
    "    cur = self.head\n",
    "    while cur:\n",
    "      if cur.data == data:\n",
    "        return cur\n",
    "      cur = cur.next\n",
    "    return None\n",
    "\n",
    "  def print_list(self):\n",
    "    cur = self.head\n",
    "    while cur:\n",
    "      print(cur.data)\n",
    "      cur = cur.next\n",
    "\n",
    "  def reverse_list(self):\n",
    "    prev = None\n",
    "    cur = self.head\n",
    "    while cur:\n",
    "      next = cur.next\n",
    "      cur.next = prev\n",
    "      prev = cur\n",
    "      cur = next\n",
    "    self.head = prev\n",
    "      \n",
    "  def insertion_sort(self):\n",
    "      if not self.head or not self.head.next:\n",
    "          return\n",
    "\n",
    "      sorted_list = None\n",
    "      current = self.head\n",
    "\n",
    "      while current:\n",
    "          next_node = current.next\n",
    "          if not sorted_list or sorted_list.data >= current.data:\n",
    "              current.next = sorted_list\n",
    "              sorted_list = current\n",
    "          else:\n",
    "              sorted_current = sorted_list\n",
    "              while sorted_current.next and sorted_current.next.data < current.data:\n",
    "                  sorted_current = sorted_current.next\n",
    "              current.next = sorted_current.next\n",
    "              sorted_current.next = current\n",
    "          current = next_node\n",
    "\n",
    "      self.head = sorted_list"
   ],
   "id": "2b3579e2e9ece0c3",
   "outputs": [],
   "execution_count": 51
  },
  {
   "metadata": {
    "ExecuteTime": {
     "end_time": "2024-07-31T04:59:45.650023Z",
     "start_time": "2024-07-31T04:59:45.644775Z"
    }
   },
   "cell_type": "code",
   "source": [
    "def merge_sorted_lists(list1, list2):\n",
    "    dummy = Node(0)\n",
    "    tail = dummy\n",
    "\n",
    "    current1 = list1.head\n",
    "    current2 = list2.head\n",
    "\n",
    "    while current1 and current2:\n",
    "        if current1.data <= current2.data:\n",
    "            tail.next = current1\n",
    "            current1 = current1.next\n",
    "        else:\n",
    "            tail.next = current2\n",
    "            current2 = current2.next\n",
    "        tail = tail.next\n",
    "\n",
    "    if current1:\n",
    "        tail.next = current1\n",
    "    elif current2:\n",
    "        tail.next = current2\n",
    "\n",
    "    merged_list = LinkedList()\n",
    "    merged_list.head = dummy.next\n",
    "    return merged_list"
   ],
   "id": "26ba95b7e5d7aafb",
   "outputs": [],
   "execution_count": 52
  },
  {
   "metadata": {
    "ExecuteTime": {
     "end_time": "2024-07-31T04:59:50.221593Z",
     "start_time": "2024-07-31T04:59:50.216686Z"
    }
   },
   "cell_type": "code",
   "source": [
    "llist = LinkedList()\n",
    "\n",
    "llist.insert_at_beginning(5)\n",
    "llist.insert_at_beginning(10)\n",
    "llist.insert_at_beginning(15)\n",
    "\n",
    "llist.insert_at_end(20)\n",
    "llist.insert_at_end(25)\n",
    "\n",
    "llist.print_list()"
   ],
   "id": "adcd098e1c9b3cff",
   "outputs": [
    {
     "name": "stdout",
     "output_type": "stream",
     "text": [
      "15\n",
      "10\n",
      "5\n",
      "20\n",
      "25\n"
     ]
    }
   ],
   "execution_count": 53
  },
  {
   "metadata": {
    "ExecuteTime": {
     "end_time": "2024-07-31T04:59:50.254287Z",
     "start_time": "2024-07-31T04:59:50.251061Z"
    }
   },
   "cell_type": "code",
   "source": [
    "reverse_list = llist.reverse_list()\n",
    "llist.print_list()"
   ],
   "id": "b49b155c41e39f",
   "outputs": [
    {
     "name": "stdout",
     "output_type": "stream",
     "text": [
      "25\n",
      "20\n",
      "5\n",
      "10\n",
      "15\n"
     ]
    }
   ],
   "execution_count": 54
  },
  {
   "metadata": {
    "ExecuteTime": {
     "end_time": "2024-07-31T04:59:50.261827Z",
     "start_time": "2024-07-31T04:59:50.255290Z"
    }
   },
   "cell_type": "code",
   "source": [
    "llist.insertion_sort()\n",
    "llist.print_list()"
   ],
   "id": "4c52c4a44af74eb1",
   "outputs": [
    {
     "name": "stdout",
     "output_type": "stream",
     "text": [
      "5\n",
      "10\n",
      "15\n",
      "20\n",
      "25\n"
     ]
    }
   ],
   "execution_count": 55
  },
  {
   "metadata": {
    "ExecuteTime": {
     "end_time": "2024-07-31T04:59:50.267864Z",
     "start_time": "2024-07-31T04:59:50.263828Z"
    }
   },
   "cell_type": "code",
   "source": [
    "llist_2 = LinkedList()\n",
    "\n",
    "llist_2.insert_at_beginning(55)\n",
    "llist_2.insert_at_beginning(13)\n",
    "llist_2.insert_at_beginning(8)\n",
    "\n",
    "llist_2.insert_at_end(45)\n",
    "llist_2.insert_at_end(9)\n",
    "\n",
    "llist_2.print_list()"
   ],
   "id": "920574381305f09c",
   "outputs": [
    {
     "name": "stdout",
     "output_type": "stream",
     "text": [
      "8\n",
      "13\n",
      "55\n",
      "45\n",
      "9\n"
     ]
    }
   ],
   "execution_count": 56
  },
  {
   "metadata": {
    "ExecuteTime": {
     "end_time": "2024-07-31T04:59:50.273500Z",
     "start_time": "2024-07-31T04:59:50.270355Z"
    }
   },
   "cell_type": "code",
   "source": [
    "llist_2.insertion_sort()\n",
    "llist_2.print_list()"
   ],
   "id": "be968afa9039d6ef",
   "outputs": [
    {
     "name": "stdout",
     "output_type": "stream",
     "text": [
      "8\n",
      "9\n",
      "13\n",
      "45\n",
      "55\n"
     ]
    }
   ],
   "execution_count": 57
  },
  {
   "metadata": {
    "ExecuteTime": {
     "end_time": "2024-07-31T04:59:50.281925Z",
     "start_time": "2024-07-31T04:59:50.278010Z"
    }
   },
   "cell_type": "code",
   "source": [
    "merged_list = merge_sorted_lists(llist, llist_2)\n",
    "merged_list.print_list()"
   ],
   "id": "7182c6a38eb59acd",
   "outputs": [
    {
     "name": "stdout",
     "output_type": "stream",
     "text": [
      "5\n",
      "8\n",
      "9\n",
      "10\n",
      "13\n",
      "15\n",
      "20\n",
      "25\n",
      "45\n",
      "55\n"
     ]
    }
   ],
   "execution_count": 58
  }
 ],
 "metadata": {
  "kernelspec": {
   "display_name": "Python 3",
   "language": "python",
   "name": "python3"
  },
  "language_info": {
   "codemirror_mode": {
    "name": "ipython",
    "version": 2
   },
   "file_extension": ".py",
   "mimetype": "text/x-python",
   "name": "python",
   "nbconvert_exporter": "python",
   "pygments_lexer": "ipython2",
   "version": "2.7.6"
  }
 },
 "nbformat": 4,
 "nbformat_minor": 5
}
